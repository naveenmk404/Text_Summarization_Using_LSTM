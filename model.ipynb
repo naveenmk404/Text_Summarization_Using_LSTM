{
  "cells": [
    {
      "cell_type": "markdown",
      "metadata": {
        "id": "BVPfNHzqEdbm"
      },
      "source": [
        "## Importing Libraries"
      ]
    },
    {
      "cell_type": "code",
      "execution_count": 2,
      "metadata": {
        "execution": {
          "iopub.execute_input": "2022-12-24T23:33:50.305612Z",
          "iopub.status.busy": "2022-12-24T23:33:50.305022Z",
          "iopub.status.idle": "2022-12-24T23:33:56.388006Z",
          "shell.execute_reply": "2022-12-24T23:33:56.387019Z",
          "shell.execute_reply.started": "2022-12-24T23:33:50.305497Z"
        },
        "id": "tcVSHaiDEdbo",
        "trusted": true
      },
      "outputs": [],
      "source": [
        "import numpy as np\n",
        "import pandas as pd\n",
        "import re\n",
        "from bs4 import BeautifulSoup\n",
        "from keras.preprocessing.text import Tokenizer\n",
        "from keras.preprocessing.sequence import pad_sequences\n",
        "from nltk.corpus import stopwords\n",
        "from tensorflow.keras.layers import Input, LSTM, Embedding, Dense, Concatenate, TimeDistributed\n",
        "from tensorflow.keras.models import Model\n",
        "from tensorflow.keras.callbacks import EarlyStopping\n",
        "import warnings\n",
        "pd.set_option(\"display.max_colwidth\", 200)\n",
        "warnings.filterwarnings(\"ignore\")\n"
      ]
    },
    {
      "cell_type": "markdown",
      "metadata": {
        "id": "0CJGTh_2Edbp"
      },
      "source": [
        "## Read the dataset"
      ]
    },
    {
      "cell_type": "code",
      "execution_count": 4,
      "metadata": {
        "colab": {
          "base_uri": "https://localhost:8080/"
        },
        "id": "HrvS_z6UEqWa",
        "outputId": "b73b8708-d751-47c9-90c0-afc882427eb9"
      },
      "outputs": [
        {
          "name": "stdout",
          "output_type": "stream",
          "text": [
            "Mounted at /content/drive\n"
          ]
        }
      ],
      "source": [
        "from google.colab import drive\n",
        "drive.mount('/content/drive')"
      ]
    },
    {
      "cell_type": "code",
      "execution_count": 5,
      "metadata": {
        "colab": {
          "base_uri": "https://localhost:8080/",
          "height": 216
        },
        "execution": {
          "iopub.execute_input": "2022-12-24T23:33:56.390497Z",
          "iopub.status.busy": "2022-12-24T23:33:56.389766Z",
          "iopub.status.idle": "2022-12-24T23:33:57.603709Z",
          "shell.execute_reply": "2022-12-24T23:33:57.602833Z",
          "shell.execute_reply.started": "2022-12-24T23:33:56.390457Z"
        },
        "id": "ub91OAL1Edbp",
        "outputId": "869733f0-6587-4188-c2a1-7778bc0dae42",
        "trusted": true
      },
      "outputs": [
        {
          "data": {
            "application/vnd.google.colaboratory.intrinsic+json": {
              "summary": "{\n  \"name\": \"data\",\n  \"rows\": 100000,\n  \"fields\": [\n    {\n      \"column\": \"Id\",\n      \"properties\": {\n        \"dtype\": \"number\",\n        \"std\": 28867,\n        \"min\": 1,\n        \"max\": 100000,\n        \"num_unique_values\": 100000,\n        \"samples\": [\n          75722,\n          80185,\n          19865\n        ],\n        \"semantic_type\": \"\",\n        \"description\": \"\"\n      }\n    },\n    {\n      \"column\": \"ProductId\",\n      \"properties\": {\n        \"dtype\": \"category\",\n        \"num_unique_values\": 12560,\n        \"samples\": [\n          \"B006U3X90E\",\n          \"B0001590JQ\",\n          \"B0000TWLJE\"\n        ],\n        \"semantic_type\": \"\",\n        \"description\": \"\"\n      }\n    },\n    {\n      \"column\": \"UserId\",\n      \"properties\": {\n        \"dtype\": \"string\",\n        \"num_unique_values\": 70396,\n        \"samples\": [\n          \"A3LAI7AFM4P296\",\n          \"A8DR6JIHBM6K5\",\n          \"A3SPRSLV03DT6Y\"\n        ],\n        \"semantic_type\": \"\",\n        \"description\": \"\"\n      }\n    },\n    {\n      \"column\": \"ProfileName\",\n      \"properties\": {\n        \"dtype\": \"string\",\n        \"num_unique_values\": 63450,\n        \"samples\": [\n          \"Gail George \\\"Gilbert\\\"\",\n          \"E Fleek\",\n          \"~~~Carol\"\n        ],\n        \"semantic_type\": \"\",\n        \"description\": \"\"\n      }\n    },\n    {\n      \"column\": \"HelpfulnessNumerator\",\n      \"properties\": {\n        \"dtype\": \"number\",\n        \"std\": 6,\n        \"min\": 0,\n        \"max\": 559,\n        \"num_unique_values\": 130,\n        \"samples\": [\n          97,\n          25,\n          12\n        ],\n        \"semantic_type\": \"\",\n        \"description\": \"\"\n      }\n    },\n    {\n      \"column\": \"HelpfulnessDenominator\",\n      \"properties\": {\n        \"dtype\": \"number\",\n        \"std\": 6,\n        \"min\": 0,\n        \"max\": 562,\n        \"num_unique_values\": 134,\n        \"samples\": [\n          305,\n          83,\n          86\n        ],\n        \"semantic_type\": \"\",\n        \"description\": \"\"\n      }\n    },\n    {\n      \"column\": \"Score\",\n      \"properties\": {\n        \"dtype\": \"number\",\n        \"std\": 1,\n        \"min\": 1,\n        \"max\": 5,\n        \"num_unique_values\": 5,\n        \"samples\": [\n          1,\n          3,\n          4\n        ],\n        \"semantic_type\": \"\",\n        \"description\": \"\"\n      }\n    },\n    {\n      \"column\": \"Time\",\n      \"properties\": {\n        \"dtype\": \"number\",\n        \"std\": 47820525,\n        \"min\": 948672000,\n        \"max\": 1351209600,\n        \"num_unique_values\": 2644,\n        \"samples\": [\n          1253577600,\n          1300665600,\n          1218931200\n        ],\n        \"semantic_type\": \"\",\n        \"description\": \"\"\n      }\n    },\n    {\n      \"column\": \"Summary\",\n      \"properties\": {\n        \"dtype\": \"string\",\n        \"num_unique_values\": 72348,\n        \"samples\": [\n          \"Nice Flavor- Something Different\",\n          \"Buy these!\",\n          \"My baby eats it all!\"\n        ],\n        \"semantic_type\": \"\",\n        \"description\": \"\"\n      }\n    },\n    {\n      \"column\": \"Text\",\n      \"properties\": {\n        \"dtype\": \"string\",\n        \"num_unique_values\": 88426,\n        \"samples\": [\n          \"I have 6 cats and do cat rescue.  I bought a case, since I mainly only use organic (Newman's Own)canned food for all my cats.  This looked and smelled like human food, but the cats won't touch it.  I left it outside for starving wild cats and THEY would not eat it either.  So buyer beware.  Don't buy a case to start with like I did.  I still have 20 cans left and no one will eat it.\",\n          \"This is the only sesame oil I will use. The aroma, taste, and texture (it's not greasy...) makes the dish what it was intented to be! Where I live it is hard to find Kadoya Sesame Oil so I have to resort to ordering it off line. The 56 oz is only ideal if you cook ALOT...a little of this goes a long way...trust me!\",\n          \"This mix allowed my little one to have cupcakes at his second birthday party.  They turned out great and with some homemade vanilla icing, they were a hit with everyone!  I even used Ener G's egg replacer to replace the multiple eggs the mix calls for.  One hint, bake for almost the maximum time on the directions.  They come out golden brown and moist.\"\n        ],\n        \"semantic_type\": \"\",\n        \"description\": \"\"\n      }\n    }\n  ]\n}",
              "type": "dataframe",
              "variable_name": "data"
            },
            "text/html": [
              "\n",
              "  <div id=\"df-0893a21e-704a-4f57-8d6e-a13325d340b0\" class=\"colab-df-container\">\n",
              "    <div>\n",
              "<style scoped>\n",
              "    .dataframe tbody tr th:only-of-type {\n",
              "        vertical-align: middle;\n",
              "    }\n",
              "\n",
              "    .dataframe tbody tr th {\n",
              "        vertical-align: top;\n",
              "    }\n",
              "\n",
              "    .dataframe thead th {\n",
              "        text-align: right;\n",
              "    }\n",
              "</style>\n",
              "<table border=\"1\" class=\"dataframe\">\n",
              "  <thead>\n",
              "    <tr style=\"text-align: right;\">\n",
              "      <th></th>\n",
              "      <th>Id</th>\n",
              "      <th>ProductId</th>\n",
              "      <th>UserId</th>\n",
              "      <th>ProfileName</th>\n",
              "      <th>HelpfulnessNumerator</th>\n",
              "      <th>HelpfulnessDenominator</th>\n",
              "      <th>Score</th>\n",
              "      <th>Time</th>\n",
              "      <th>Summary</th>\n",
              "      <th>Text</th>\n",
              "    </tr>\n",
              "  </thead>\n",
              "  <tbody>\n",
              "    <tr>\n",
              "      <th>0</th>\n",
              "      <td>1</td>\n",
              "      <td>B001E4KFG0</td>\n",
              "      <td>A3SGXH7AUHU8GW</td>\n",
              "      <td>delmartian</td>\n",
              "      <td>1</td>\n",
              "      <td>1</td>\n",
              "      <td>5</td>\n",
              "      <td>1303862400</td>\n",
              "      <td>Good Quality Dog Food</td>\n",
              "      <td>I have bought several of the Vitality canned dog food products and have found them all to be of good quality. The product looks more like a stew than a processed meat and it smells better. My Labr...</td>\n",
              "    </tr>\n",
              "    <tr>\n",
              "      <th>1</th>\n",
              "      <td>2</td>\n",
              "      <td>B00813GRG4</td>\n",
              "      <td>A1D87F6ZCVE5NK</td>\n",
              "      <td>dll pa</td>\n",
              "      <td>0</td>\n",
              "      <td>0</td>\n",
              "      <td>1</td>\n",
              "      <td>1346976000</td>\n",
              "      <td>Not as Advertised</td>\n",
              "      <td>Product arrived labeled as Jumbo Salted Peanuts...the peanuts were actually small sized unsalted. Not sure if this was an error or if the vendor intended to represent the product as \"Jumbo\".</td>\n",
              "    </tr>\n",
              "  </tbody>\n",
              "</table>\n",
              "</div>\n",
              "    <div class=\"colab-df-buttons\">\n",
              "\n",
              "  <div class=\"colab-df-container\">\n",
              "    <button class=\"colab-df-convert\" onclick=\"convertToInteractive('df-0893a21e-704a-4f57-8d6e-a13325d340b0')\"\n",
              "            title=\"Convert this dataframe to an interactive table.\"\n",
              "            style=\"display:none;\">\n",
              "\n",
              "  <svg xmlns=\"http://www.w3.org/2000/svg\" height=\"24px\" viewBox=\"0 -960 960 960\">\n",
              "    <path d=\"M120-120v-720h720v720H120Zm60-500h600v-160H180v160Zm220 220h160v-160H400v160Zm0 220h160v-160H400v160ZM180-400h160v-160H180v160Zm440 0h160v-160H620v160ZM180-180h160v-160H180v160Zm440 0h160v-160H620v160Z\"/>\n",
              "  </svg>\n",
              "    </button>\n",
              "\n",
              "  <style>\n",
              "    .colab-df-container {\n",
              "      display:flex;\n",
              "      gap: 12px;\n",
              "    }\n",
              "\n",
              "    .colab-df-convert {\n",
              "      background-color: #E8F0FE;\n",
              "      border: none;\n",
              "      border-radius: 50%;\n",
              "      cursor: pointer;\n",
              "      display: none;\n",
              "      fill: #1967D2;\n",
              "      height: 32px;\n",
              "      padding: 0 0 0 0;\n",
              "      width: 32px;\n",
              "    }\n",
              "\n",
              "    .colab-df-convert:hover {\n",
              "      background-color: #E2EBFA;\n",
              "      box-shadow: 0px 1px 2px rgba(60, 64, 67, 0.3), 0px 1px 3px 1px rgba(60, 64, 67, 0.15);\n",
              "      fill: #174EA6;\n",
              "    }\n",
              "\n",
              "    .colab-df-buttons div {\n",
              "      margin-bottom: 4px;\n",
              "    }\n",
              "\n",
              "    [theme=dark] .colab-df-convert {\n",
              "      background-color: #3B4455;\n",
              "      fill: #D2E3FC;\n",
              "    }\n",
              "\n",
              "    [theme=dark] .colab-df-convert:hover {\n",
              "      background-color: #434B5C;\n",
              "      box-shadow: 0px 1px 3px 1px rgba(0, 0, 0, 0.15);\n",
              "      filter: drop-shadow(0px 1px 2px rgba(0, 0, 0, 0.3));\n",
              "      fill: #FFFFFF;\n",
              "    }\n",
              "  </style>\n",
              "\n",
              "    <script>\n",
              "      const buttonEl =\n",
              "        document.querySelector('#df-0893a21e-704a-4f57-8d6e-a13325d340b0 button.colab-df-convert');\n",
              "      buttonEl.style.display =\n",
              "        google.colab.kernel.accessAllowed ? 'block' : 'none';\n",
              "\n",
              "      async function convertToInteractive(key) {\n",
              "        const element = document.querySelector('#df-0893a21e-704a-4f57-8d6e-a13325d340b0');\n",
              "        const dataTable =\n",
              "          await google.colab.kernel.invokeFunction('convertToInteractive',\n",
              "                                                    [key], {});\n",
              "        if (!dataTable) return;\n",
              "\n",
              "        const docLinkHtml = 'Like what you see? Visit the ' +\n",
              "          '<a target=\"_blank\" href=https://colab.research.google.com/notebooks/data_table.ipynb>data table notebook</a>'\n",
              "          + ' to learn more about interactive tables.';\n",
              "        element.innerHTML = '';\n",
              "        dataTable['output_type'] = 'display_data';\n",
              "        await google.colab.output.renderOutput(dataTable, element);\n",
              "        const docLink = document.createElement('div');\n",
              "        docLink.innerHTML = docLinkHtml;\n",
              "        element.appendChild(docLink);\n",
              "      }\n",
              "    </script>\n",
              "  </div>\n",
              "\n",
              "\n",
              "<div id=\"df-05a3c5d4-04fc-42f7-bc41-a4b15b84dcb5\">\n",
              "  <button class=\"colab-df-quickchart\" onclick=\"quickchart('df-05a3c5d4-04fc-42f7-bc41-a4b15b84dcb5')\"\n",
              "            title=\"Suggest charts\"\n",
              "            style=\"display:none;\">\n",
              "\n",
              "<svg xmlns=\"http://www.w3.org/2000/svg\" height=\"24px\"viewBox=\"0 0 24 24\"\n",
              "     width=\"24px\">\n",
              "    <g>\n",
              "        <path d=\"M19 3H5c-1.1 0-2 .9-2 2v14c0 1.1.9 2 2 2h14c1.1 0 2-.9 2-2V5c0-1.1-.9-2-2-2zM9 17H7v-7h2v7zm4 0h-2V7h2v10zm4 0h-2v-4h2v4z\"/>\n",
              "    </g>\n",
              "</svg>\n",
              "  </button>\n",
              "\n",
              "<style>\n",
              "  .colab-df-quickchart {\n",
              "      --bg-color: #E8F0FE;\n",
              "      --fill-color: #1967D2;\n",
              "      --hover-bg-color: #E2EBFA;\n",
              "      --hover-fill-color: #174EA6;\n",
              "      --disabled-fill-color: #AAA;\n",
              "      --disabled-bg-color: #DDD;\n",
              "  }\n",
              "\n",
              "  [theme=dark] .colab-df-quickchart {\n",
              "      --bg-color: #3B4455;\n",
              "      --fill-color: #D2E3FC;\n",
              "      --hover-bg-color: #434B5C;\n",
              "      --hover-fill-color: #FFFFFF;\n",
              "      --disabled-bg-color: #3B4455;\n",
              "      --disabled-fill-color: #666;\n",
              "  }\n",
              "\n",
              "  .colab-df-quickchart {\n",
              "    background-color: var(--bg-color);\n",
              "    border: none;\n",
              "    border-radius: 50%;\n",
              "    cursor: pointer;\n",
              "    display: none;\n",
              "    fill: var(--fill-color);\n",
              "    height: 32px;\n",
              "    padding: 0;\n",
              "    width: 32px;\n",
              "  }\n",
              "\n",
              "  .colab-df-quickchart:hover {\n",
              "    background-color: var(--hover-bg-color);\n",
              "    box-shadow: 0 1px 2px rgba(60, 64, 67, 0.3), 0 1px 3px 1px rgba(60, 64, 67, 0.15);\n",
              "    fill: var(--button-hover-fill-color);\n",
              "  }\n",
              "\n",
              "  .colab-df-quickchart-complete:disabled,\n",
              "  .colab-df-quickchart-complete:disabled:hover {\n",
              "    background-color: var(--disabled-bg-color);\n",
              "    fill: var(--disabled-fill-color);\n",
              "    box-shadow: none;\n",
              "  }\n",
              "\n",
              "  .colab-df-spinner {\n",
              "    border: 2px solid var(--fill-color);\n",
              "    border-color: transparent;\n",
              "    border-bottom-color: var(--fill-color);\n",
              "    animation:\n",
              "      spin 1s steps(1) infinite;\n",
              "  }\n",
              "\n",
              "  @keyframes spin {\n",
              "    0% {\n",
              "      border-color: transparent;\n",
              "      border-bottom-color: var(--fill-color);\n",
              "      border-left-color: var(--fill-color);\n",
              "    }\n",
              "    20% {\n",
              "      border-color: transparent;\n",
              "      border-left-color: var(--fill-color);\n",
              "      border-top-color: var(--fill-color);\n",
              "    }\n",
              "    30% {\n",
              "      border-color: transparent;\n",
              "      border-left-color: var(--fill-color);\n",
              "      border-top-color: var(--fill-color);\n",
              "      border-right-color: var(--fill-color);\n",
              "    }\n",
              "    40% {\n",
              "      border-color: transparent;\n",
              "      border-right-color: var(--fill-color);\n",
              "      border-top-color: var(--fill-color);\n",
              "    }\n",
              "    60% {\n",
              "      border-color: transparent;\n",
              "      border-right-color: var(--fill-color);\n",
              "    }\n",
              "    80% {\n",
              "      border-color: transparent;\n",
              "      border-right-color: var(--fill-color);\n",
              "      border-bottom-color: var(--fill-color);\n",
              "    }\n",
              "    90% {\n",
              "      border-color: transparent;\n",
              "      border-bottom-color: var(--fill-color);\n",
              "    }\n",
              "  }\n",
              "</style>\n",
              "\n",
              "  <script>\n",
              "    async function quickchart(key) {\n",
              "      const quickchartButtonEl =\n",
              "        document.querySelector('#' + key + ' button');\n",
              "      quickchartButtonEl.disabled = true;  // To prevent multiple clicks.\n",
              "      quickchartButtonEl.classList.add('colab-df-spinner');\n",
              "      try {\n",
              "        const charts = await google.colab.kernel.invokeFunction(\n",
              "            'suggestCharts', [key], {});\n",
              "      } catch (error) {\n",
              "        console.error('Error during call to suggestCharts:', error);\n",
              "      }\n",
              "      quickchartButtonEl.classList.remove('colab-df-spinner');\n",
              "      quickchartButtonEl.classList.add('colab-df-quickchart-complete');\n",
              "    }\n",
              "    (() => {\n",
              "      let quickchartButtonEl =\n",
              "        document.querySelector('#df-05a3c5d4-04fc-42f7-bc41-a4b15b84dcb5 button');\n",
              "      quickchartButtonEl.style.display =\n",
              "        google.colab.kernel.accessAllowed ? 'block' : 'none';\n",
              "    })();\n",
              "  </script>\n",
              "</div>\n",
              "\n",
              "    </div>\n",
              "  </div>\n"
            ],
            "text/plain": [
              "   Id   ProductId          UserId ProfileName  HelpfulnessNumerator  \\\n",
              "0   1  B001E4KFG0  A3SGXH7AUHU8GW  delmartian                     1   \n",
              "1   2  B00813GRG4  A1D87F6ZCVE5NK      dll pa                     0   \n",
              "\n",
              "   HelpfulnessDenominator  Score        Time                Summary  \\\n",
              "0                       1      5  1303862400  Good Quality Dog Food   \n",
              "1                       0      1  1346976000      Not as Advertised   \n",
              "\n",
              "                                                                                                                                                                                                      Text  \n",
              "0  I have bought several of the Vitality canned dog food products and have found them all to be of good quality. The product looks more like a stew than a processed meat and it smells better. My Labr...  \n",
              "1           Product arrived labeled as Jumbo Salted Peanuts...the peanuts were actually small sized unsalted. Not sure if this was an error or if the vendor intended to represent the product as \"Jumbo\".  "
            ]
          },
          "execution_count": 5,
          "metadata": {},
          "output_type": "execute_result"
        }
      ],
      "source": [
        "data = pd.read_csv(\"/content/drive/MyDrive/dataset_LSTM/Reviews.csv\", nrows=100000)\n",
        "data.head(2)\n"
      ]
    },
    {
      "cell_type": "code",
      "execution_count": 6,
      "metadata": {
        "execution": {
          "iopub.execute_input": "2022-12-24T23:33:57.605518Z",
          "iopub.status.busy": "2022-12-24T23:33:57.605176Z",
          "iopub.status.idle": "2022-12-24T23:33:57.778236Z",
          "shell.execute_reply": "2022-12-24T23:33:57.777253Z",
          "shell.execute_reply.started": "2022-12-24T23:33:57.605484Z"
        },
        "id": "tY_yUxSnEdbq",
        "trusted": true
      },
      "outputs": [],
      "source": [
        "# Drop Duplicates and NA values\n",
        "data.drop_duplicates(subset=['Text'], inplace=True)  # dropping duplicates\n",
        "data.dropna(axis=0, inplace=True)  # dropping na\n"
      ]
    },
    {
      "cell_type": "markdown",
      "metadata": {
        "id": "7bGoHIXEEdbq"
      },
      "source": [
        "## Preprocessing\n",
        "* Convert everything to lowercase\n",
        "* Remove HTML tags\n",
        "* Contraction mapping\n",
        "* Remove (‘s)\n",
        "* Remove any text inside the parenthesis ( )\n",
        "* Eliminate punctuations and special characters\n",
        "* Remove stopwords\n",
        "* Remove short words"
      ]
    },
    {
      "cell_type": "code",
      "execution_count": 7,
      "metadata": {
        "execution": {
          "iopub.execute_input": "2022-12-24T23:33:57.781482Z",
          "iopub.status.busy": "2022-12-24T23:33:57.781110Z",
          "iopub.status.idle": "2022-12-24T23:33:57.793909Z",
          "shell.execute_reply": "2022-12-24T23:33:57.792806Z",
          "shell.execute_reply.started": "2022-12-24T23:33:57.781446Z"
        },
        "id": "Kf7AvwW6Edbq",
        "trusted": true
      },
      "outputs": [],
      "source": [
        "# Here is the dictionary that we will use for expanding the contractions:\n",
        "contraction_mapping = {\"ain't\": \"is not\", \"aren't\": \"are not\", \"can't\": \"cannot\", \"'cause\": \"because\", \"could've\": \"could have\", \"couldn't\": \"could not\",\n",
        "\n",
        "                       \"didn't\": \"did not\", \"doesn't\": \"does not\", \"don't\": \"do not\", \"hadn't\": \"had not\", \"hasn't\": \"has not\", \"haven't\": \"have not\",\n",
        "\n",
        "                       \"he'd\": \"he would\", \"he'll\": \"he will\", \"he's\": \"he is\", \"how'd\": \"how did\", \"how'd'y\": \"how do you\", \"how'll\": \"how will\", \"how's\": \"how is\",\n",
        "\n",
        "                       \"I'd\": \"I would\", \"I'd've\": \"I would have\", \"I'll\": \"I will\", \"I'll've\": \"I will have\", \"I'm\": \"I am\", \"I've\": \"I have\", \"i'd\": \"i would\",\n",
        "\n",
        "                       \"i'd've\": \"i would have\", \"i'll\": \"i will\",  \"i'll've\": \"i will have\", \"i'm\": \"i am\", \"i've\": \"i have\", \"isn't\": \"is not\", \"it'd\": \"it would\",\n",
        "\n",
        "                       \"it'd've\": \"it would have\", \"it'll\": \"it will\", \"it'll've\": \"it will have\", \"it's\": \"it is\", \"let's\": \"let us\", \"ma'am\": \"madam\",\n",
        "\n",
        "                       \"mayn't\": \"may not\", \"might've\": \"might have\", \"mightn't\": \"might not\", \"mightn't've\": \"might not have\", \"must've\": \"must have\",\n",
        "\n",
        "                       \"mustn't\": \"must not\", \"mustn't've\": \"must not have\", \"needn't\": \"need not\", \"needn't've\": \"need not have\", \"o'clock\": \"of the clock\",\n",
        "\n",
        "                       \"oughtn't\": \"ought not\", \"oughtn't've\": \"ought not have\", \"shan't\": \"shall not\", \"sha'n't\": \"shall not\", \"shan't've\": \"shall not have\",\n",
        "\n",
        "                       \"she'd\": \"she would\", \"she'd've\": \"she would have\", \"she'll\": \"she will\", \"she'll've\": \"she will have\", \"she's\": \"she is\",\n",
        "\n",
        "                       \"should've\": \"should have\", \"shouldn't\": \"should not\", \"shouldn't've\": \"should not have\", \"so've\": \"so have\", \"so's\": \"so as\",\n",
        "\n",
        "                       \"this's\": \"this is\", \"that'd\": \"that would\", \"that'd've\": \"that would have\", \"that's\": \"that is\", \"there'd\": \"there would\",\n",
        "\n",
        "                       \"there'd've\": \"there would have\", \"there's\": \"there is\", \"here's\": \"here is\", \"they'd\": \"they would\", \"they'd've\": \"they would have\",\n",
        "\n",
        "                       \"they'll\": \"they will\", \"they'll've\": \"they will have\", \"they're\": \"they are\", \"they've\": \"they have\", \"to've\": \"to have\",\n",
        "\n",
        "                       \"wasn't\": \"was not\", \"we'd\": \"we would\", \"we'd've\": \"we would have\", \"we'll\": \"we will\", \"we'll've\": \"we will have\", \"we're\": \"we are\",\n",
        "\n",
        "                       \"we've\": \"we have\", \"weren't\": \"were not\", \"what'll\": \"what will\", \"what'll've\": \"what will have\", \"what're\": \"what are\",\n",
        "\n",
        "                       \"what's\": \"what is\", \"what've\": \"what have\", \"when's\": \"when is\", \"when've\": \"when have\", \"where'd\": \"where did\", \"where's\": \"where is\",\n",
        "\n",
        "                       \"where've\": \"where have\", \"who'll\": \"who will\", \"who'll've\": \"who will have\", \"who's\": \"who is\", \"who've\": \"who have\",\n",
        "\n",
        "                       \"why's\": \"why is\", \"why've\": \"why have\", \"will've\": \"will have\", \"won't\": \"will not\", \"won't've\": \"will not have\",\n",
        "\n",
        "                       \"would've\": \"would have\", \"wouldn't\": \"would not\", \"wouldn't've\": \"would not have\", \"y'all\": \"you all\",\n",
        "\n",
        "                       \"y'all'd\": \"you all would\", \"y'all'd've\": \"you all would have\", \"y'all're\": \"you all are\", \"y'all've\": \"you all have\",\n",
        "\n",
        "                       \"you'd\": \"you would\", \"you'd've\": \"you would have\", \"you'll\": \"you will\", \"you'll've\": \"you will have\",\n",
        "\n",
        "                       \"you're\": \"you are\", \"you've\": \"you have\"}\n"
      ]
    },
    {
      "cell_type": "markdown",
      "metadata": {
        "id": "7TETHbS-Edbq"
      },
      "source": [
        "a) Text Cleaning"
      ]
    },
    {
      "cell_type": "code",
      "execution_count": 9,
      "metadata": {
        "colab": {
          "base_uri": "https://localhost:8080/"
        },
        "execution": {
          "iopub.execute_input": "2022-12-24T23:33:57.796338Z",
          "iopub.status.busy": "2022-12-24T23:33:57.795669Z",
          "iopub.status.idle": "2022-12-24T23:34:25.215745Z",
          "shell.execute_reply": "2022-12-24T23:34:25.214820Z",
          "shell.execute_reply.started": "2022-12-24T23:33:57.796302Z"
        },
        "id": "Joh69bfOEdbq",
        "outputId": "4d2cab5a-d76c-4dd8-c388-5c3722908f10",
        "trusted": true
      },
      "outputs": [
        {
          "name": "stderr",
          "output_type": "stream",
          "text": [
            "[nltk_data] Downloading package stopwords to /root/nltk_data...\n",
            "[nltk_data]   Unzipping corpora/stopwords.zip.\n"
          ]
        }
      ],
      "source": [
        "import nltk\n",
        "nltk.download('stopwords')\n",
        "stop_words = set(stopwords.words('english'))\n",
        "\n",
        "\n",
        "def text_cleaner(text):\n",
        "    '''\n",
        "    clean text column in dataset\n",
        "    '''\n",
        "    newString = text.lower() # lowercase words\n",
        "    newString = BeautifulSoup(newString, \"lxml\").text # remove HTML tags\n",
        "    newString = re.sub(r'\\([^)]*\\)', '', newString)\n",
        "    newString = re.sub('\"', '', newString) # remove quotes\n",
        "    newString = ' '.join([contraction_mapping[t] if t in contraction_mapping else t for t in newString.split(\" \")]) # the dictionary that we will use for expanding the contractions\n",
        "    newString = re.sub(r\"'s\\b\", \"\", newString)\n",
        "    newString = re.sub(\"[^a-zA-Z]\", \" \", newString) # match all strings that contain a non-letter\n",
        "    tokens = [w for w in newString.split() if not w in stop_words]\n",
        "    long_words = []\n",
        "    for i in tokens:\n",
        "        if len(i) >= 3:  # removing short word\n",
        "            long_words.append(i)\n",
        "    return (\" \".join(long_words)).strip() # remove the whitespaces or specific characters from the string at the beginning and end of the string\n",
        "\n",
        "\n",
        "cleaned_text = []\n",
        "for t in data['Text']:\n",
        "    cleaned_text.append(text_cleaner(t))\n"
      ]
    },
    {
      "cell_type": "markdown",
      "metadata": {
        "id": "OckjSP-bEdbr"
      },
      "source": [
        "b) Summary Cleaning"
      ]
    },
    {
      "cell_type": "code",
      "execution_count": 10,
      "metadata": {
        "colab": {
          "base_uri": "https://localhost:8080/"
        },
        "execution": {
          "iopub.execute_input": "2022-12-24T23:34:25.217761Z",
          "iopub.status.busy": "2022-12-24T23:34:25.217400Z",
          "iopub.status.idle": "2022-12-24T23:34:25.227185Z",
          "shell.execute_reply": "2022-12-24T23:34:25.224993Z",
          "shell.execute_reply.started": "2022-12-24T23:34:25.217724Z"
        },
        "id": "ajAdc2QwEdbr",
        "outputId": "dff029a3-d45a-4520-9718-2e445a4b8668",
        "trusted": true
      },
      "outputs": [
        {
          "data": {
            "text/plain": [
              "0                            Good Quality Dog Food\n",
              "1                                Not as Advertised\n",
              "2                            \"Delight\" says it all\n",
              "3                                   Cough Medicine\n",
              "4                                      Great taffy\n",
              "5                                       Nice Taffy\n",
              "6    Great!  Just as good as the expensive brands!\n",
              "7                           Wonderful, tasty taffy\n",
              "8                                       Yay Barley\n",
              "9                                 Healthy Dog Food\n",
              "Name: Summary, dtype: object"
            ]
          },
          "execution_count": 10,
          "metadata": {},
          "output_type": "execute_result"
        }
      ],
      "source": [
        "data['Summary'][:10]"
      ]
    },
    {
      "cell_type": "code",
      "execution_count": 11,
      "metadata": {
        "execution": {
          "iopub.execute_input": "2022-12-24T23:34:25.229319Z",
          "iopub.status.busy": "2022-12-24T23:34:25.228417Z",
          "iopub.status.idle": "2022-12-24T23:34:25.865961Z",
          "shell.execute_reply": "2022-12-24T23:34:25.864987Z",
          "shell.execute_reply.started": "2022-12-24T23:34:25.229280Z"
        },
        "id": "-o4e6MGAEdbr",
        "trusted": true
      },
      "outputs": [],
      "source": [
        "def summary_cleaner(text):\n",
        "    '''\n",
        "    clean summary column in dataset\n",
        "    '''\n",
        "    newString = re.sub('\"', '', str(text))  # remove quotes\n",
        "    newString = ' '.join([contraction_mapping[t] if t in contraction_mapping else t for t in newString.split(\" \")])  # the dictionary that we will use for expanding the contractions\n",
        "    newString = re.sub(r\"'s\\b\", \"\", newString)\n",
        "    # match all strings that contain a non-letter\n",
        "    newString = re.sub(\"[^a-zA-Z]\", \" \", newString)\n",
        "    newString = newString.lower()  # lowercase words\n",
        "    tokens = newString.split()\n",
        "    newString = ''\n",
        "    for i in tokens:\n",
        "        if len(i) > 1:\n",
        "            newString = newString+i+' '\n",
        "    return newString\n",
        "\n",
        "\n",
        "cleaned_summary = []\n",
        "for t in data['Summary']:\n",
        "    cleaned_summary.append(summary_cleaner(t))\n"
      ]
    },
    {
      "cell_type": "code",
      "execution_count": 12,
      "metadata": {
        "execution": {
          "iopub.execute_input": "2022-12-24T23:34:25.867915Z",
          "iopub.status.busy": "2022-12-24T23:34:25.867533Z",
          "iopub.status.idle": "2022-12-24T23:34:25.978912Z",
          "shell.execute_reply": "2022-12-24T23:34:25.977921Z",
          "shell.execute_reply.started": "2022-12-24T23:34:25.867877Z"
        },
        "id": "L6geu9jZEdbr",
        "trusted": true
      },
      "outputs": [],
      "source": [
        "# create new colums 'cleaned_text' and 'cleaned_summary'\n",
        "data['cleaned_text'] = cleaned_text\n",
        "data['cleaned_summary'] = cleaned_summary\n",
        "data['cleaned_summary'].replace('', np.nan, inplace=True) # empty values with nan\n",
        "data.dropna(axis=0, inplace=True)"
      ]
    },
    {
      "cell_type": "code",
      "execution_count": 13,
      "metadata": {
        "execution": {
          "iopub.execute_input": "2022-12-24T23:34:25.980809Z",
          "iopub.status.busy": "2022-12-24T23:34:25.980422Z",
          "iopub.status.idle": "2022-12-24T23:34:26.015713Z",
          "shell.execute_reply": "2022-12-24T23:34:26.014712Z",
          "shell.execute_reply.started": "2022-12-24T23:34:25.980756Z"
        },
        "id": "75KT3dnXEdbr",
        "trusted": true
      },
      "outputs": [],
      "source": [
        "# add the START and END special tokens at the beginning and end of the summary for the decoder\n",
        "data['cleaned_summary'] = data['cleaned_summary'].apply(lambda x : 'sostok '+ x + ' eostok')\n"
      ]
    },
    {
      "cell_type": "code",
      "execution_count": 14,
      "metadata": {
        "colab": {
          "base_uri": "https://localhost:8080/",
          "height": 306
        },
        "execution": {
          "iopub.execute_input": "2022-12-24T23:34:26.021275Z",
          "iopub.status.busy": "2022-12-24T23:34:26.020994Z",
          "iopub.status.idle": "2022-12-24T23:34:26.037173Z",
          "shell.execute_reply": "2022-12-24T23:34:26.035929Z",
          "shell.execute_reply.started": "2022-12-24T23:34:26.021249Z"
        },
        "id": "F46GElrdEdbr",
        "outputId": "3abd7e10-17dd-4db3-81dc-bd37ebdb6ea3",
        "trusted": true
      },
      "outputs": [
        {
          "data": {
            "application/vnd.google.colaboratory.intrinsic+json": {
              "summary": "{\n  \"name\": \"data\",\n  \"rows\": 88350,\n  \"fields\": [\n    {\n      \"column\": \"Id\",\n      \"properties\": {\n        \"dtype\": \"number\",\n        \"std\": 28997,\n        \"min\": 1,\n        \"max\": 100000,\n        \"num_unique_values\": 88350,\n        \"samples\": [\n          13773,\n          95720,\n          42509\n        ],\n        \"semantic_type\": \"\",\n        \"description\": \"\"\n      }\n    },\n    {\n      \"column\": \"ProductId\",\n      \"properties\": {\n        \"dtype\": \"category\",\n        \"num_unique_values\": 12193,\n        \"samples\": [\n          \"B000NVVWJ4\",\n          \"B0006GWXRQ\",\n          \"B000Q6R3SK\"\n        ],\n        \"semantic_type\": \"\",\n        \"description\": \"\"\n      }\n    },\n    {\n      \"column\": \"UserId\",\n      \"properties\": {\n        \"dtype\": \"string\",\n        \"num_unique_values\": 70343,\n        \"samples\": [\n          \"A294A0TQAL9HK9\",\n          \"AEFRP38KXU572\",\n          \"ADIQOHTOXTDBZ\"\n        ],\n        \"semantic_type\": \"\",\n        \"description\": \"\"\n      }\n    },\n    {\n      \"column\": \"ProfileName\",\n      \"properties\": {\n        \"dtype\": \"string\",\n        \"num_unique_values\": 63411,\n        \"samples\": [\n          \"the russian\",\n          \"amynicole902 \\\"amynicole902\\\"\",\n          \"Teri Breitbach\"\n        ],\n        \"semantic_type\": \"\",\n        \"description\": \"\"\n      }\n    },\n    {\n      \"column\": \"HelpfulnessNumerator\",\n      \"properties\": {\n        \"dtype\": \"number\",\n        \"std\": 6,\n        \"min\": 0,\n        \"max\": 559,\n        \"num_unique_values\": 130,\n        \"samples\": [\n          97,\n          25,\n          12\n        ],\n        \"semantic_type\": \"\",\n        \"description\": \"\"\n      }\n    },\n    {\n      \"column\": \"HelpfulnessDenominator\",\n      \"properties\": {\n        \"dtype\": \"number\",\n        \"std\": 7,\n        \"min\": 0,\n        \"max\": 562,\n        \"num_unique_values\": 134,\n        \"samples\": [\n          305,\n          83,\n          86\n        ],\n        \"semantic_type\": \"\",\n        \"description\": \"\"\n      }\n    },\n    {\n      \"column\": \"Score\",\n      \"properties\": {\n        \"dtype\": \"number\",\n        \"std\": 1,\n        \"min\": 1,\n        \"max\": 5,\n        \"num_unique_values\": 5,\n        \"samples\": [\n          1,\n          3,\n          4\n        ],\n        \"semantic_type\": \"\",\n        \"description\": \"\"\n      }\n    },\n    {\n      \"column\": \"Time\",\n      \"properties\": {\n        \"dtype\": \"number\",\n        \"std\": 47543994,\n        \"min\": 948672000,\n        \"max\": 1351209600,\n        \"num_unique_values\": 2643,\n        \"samples\": [\n          1156291200,\n          1241308800,\n          1292025600\n        ],\n        \"semantic_type\": \"\",\n        \"description\": \"\"\n      }\n    },\n    {\n      \"column\": \"Summary\",\n      \"properties\": {\n        \"dtype\": \"string\",\n        \"num_unique_values\": 72174,\n        \"samples\": [\n          \"Great tasting barswith lots of protein\",\n          \"Doesn't taste like Sumatra\",\n          \"great oatcakes\"\n        ],\n        \"semantic_type\": \"\",\n        \"description\": \"\"\n      }\n    },\n    {\n      \"column\": \"Text\",\n      \"properties\": {\n        \"dtype\": \"string\",\n        \"num_unique_values\": 88350,\n        \"samples\": [\n          \"I absolutely love this soup mix for my roast chicken.  It's the only way I'll roast a chicken.  I actually got the recipe out of my Lipton soup mix cookbook and it's as follows:<br /><br />Country Herb Roasted Chicken<br /><br />1 chicken (2 1/2 to 3 lb.), cut into serving pieces (with or without skin) or 1 1/2 lb. boneless skinless chicken breast halves<br /><br />1 envelope Lipton Recipe Secrets Savory Herb with Garlic or Golden Herb with Lemon Soup Mix<br /><br />2 TBS water<br /><br />1 TBS olive or vegetable oil<br /><br />Preheat oven to 375 degrees.<br /><br />In a 13x9 baking or roasting pan, arrange chicken.  In a small bowl, combine remaining ingredients; brush on chicken.<br /><br />For chicken pieces, bake uncovered 45 minutes or until chicken is done.  For chicken breast halves, bake uncovered 20 minutes or until chicken is done.<br /><br />Makes about 4 servings.<br /><br />I do hope you'll try it.  I had to purchase it from Amazon after all of my local grocery stores discontinued carrying it.\",\n          \"My dog won't touch these.  She likes almost everything, so I was very surprised.  The bones smell like they have been burned.  Maybe it's just the jerky smell, but it's very unpleasant.\",\n          \"No...  I didn't try it myself and my dog loves eating it, but it smells like it has too much flavoring, seasoning and salt added. Smells like canned spam. Its mostly corn and mystery meats, but it has so much stuff added to make the dog like it that they become quite picky afterwards. This stuff is like human fast food. It's hard to feed them human grade dog food after they're given this stuff. Now, my dog spits out the all-natural kibble -which I assume he thinks tastes like cardboard after having his taste buds desensitized by all the salt. Kinda like a Pandora's box.<br /><br />The stool is softened soft serve ice cream consistency. After first week when he became accustomed to it, which was more runny.<br /><br />The price is good, but your dog will become more picky with blander foods afterwards.\"\n        ],\n        \"semantic_type\": \"\",\n        \"description\": \"\"\n      }\n    },\n    {\n      \"column\": \"cleaned_text\",\n      \"properties\": {\n        \"dtype\": \"string\",\n        \"num_unique_values\": 88274,\n        \"samples\": [\n          \"dogs house could get thru day without blue dog cookies smell good tempted try one\",\n          \"dogs food limited ingredients best types tried dogs ate easily helped get medical issues precipitated use vet recommended would use day day dog food since flavors without limited ingredients appeal dogs\",\n          \"mixed feelings nunaturals nustevia white stevia maltodextrin powder probably purchase get wrong great tasting stevia extract easy use percent stevia percent maltodextrin filler words pennies dollar spend stuff buying high quality stevia extract powder opinion unnecessarily dilute however make exceptionally easy measure labeling said stevia extract would passed beginning get dry stevia extract quality much less money per serving stevia first time buying stevia easy use tastes great accustomed buying using concentrated stevia extracts probably disappointed low concentration product mixture pros star taste easy measure perfect first time stevia users tsp tbsp cane sugarcons stevia cost competitive pure dry stevia extracts tsp tbsp cane sugaroverall good product best value would given stars product labeling try hide fact potent cost product buy concentrated stevia powders cut low cost filler like maltodextrin come ahead case wondering got value calculated precise scale found density product grams per teaspoon label says contains per tsp thus tsp stevia extract mixed powder concentration comes stevia per gram product percent weight pretty weak stuff still much sweeter cane sugar\"\n        ],\n        \"semantic_type\": \"\",\n        \"description\": \"\"\n      }\n    },\n    {\n      \"column\": \"cleaned_summary\",\n      \"properties\": {\n        \"dtype\": \"string\",\n        \"num_unique_values\": 63017,\n        \"samples\": [\n          \"sostok can get over the texture  eostok\",\n          \"sostok london cupa tea  eostok\",\n          \"sostok little box full of joy  eostok\"\n        ],\n        \"semantic_type\": \"\",\n        \"description\": \"\"\n      }\n    }\n  ]\n}",
              "type": "dataframe",
              "variable_name": "data"
            },
            "text/html": [
              "\n",
              "  <div id=\"df-96f640d9-7906-4961-8d8f-7582c20da02f\" class=\"colab-df-container\">\n",
              "    <div>\n",
              "<style scoped>\n",
              "    .dataframe tbody tr th:only-of-type {\n",
              "        vertical-align: middle;\n",
              "    }\n",
              "\n",
              "    .dataframe tbody tr th {\n",
              "        vertical-align: top;\n",
              "    }\n",
              "\n",
              "    .dataframe thead th {\n",
              "        text-align: right;\n",
              "    }\n",
              "</style>\n",
              "<table border=\"1\" class=\"dataframe\">\n",
              "  <thead>\n",
              "    <tr style=\"text-align: right;\">\n",
              "      <th></th>\n",
              "      <th>Id</th>\n",
              "      <th>ProductId</th>\n",
              "      <th>UserId</th>\n",
              "      <th>ProfileName</th>\n",
              "      <th>HelpfulnessNumerator</th>\n",
              "      <th>HelpfulnessDenominator</th>\n",
              "      <th>Score</th>\n",
              "      <th>Time</th>\n",
              "      <th>Summary</th>\n",
              "      <th>Text</th>\n",
              "      <th>cleaned_text</th>\n",
              "      <th>cleaned_summary</th>\n",
              "    </tr>\n",
              "  </thead>\n",
              "  <tbody>\n",
              "    <tr>\n",
              "      <th>0</th>\n",
              "      <td>1</td>\n",
              "      <td>B001E4KFG0</td>\n",
              "      <td>A3SGXH7AUHU8GW</td>\n",
              "      <td>delmartian</td>\n",
              "      <td>1</td>\n",
              "      <td>1</td>\n",
              "      <td>5</td>\n",
              "      <td>1303862400</td>\n",
              "      <td>Good Quality Dog Food</td>\n",
              "      <td>I have bought several of the Vitality canned dog food products and have found them all to be of good quality. The product looks more like a stew than a processed meat and it smells better. My Labr...</td>\n",
              "      <td>bought several vitality canned dog food products found good quality product looks like stew processed meat smells better labrador finicky appreciates product better</td>\n",
              "      <td>sostok good quality dog food  eostok</td>\n",
              "    </tr>\n",
              "  </tbody>\n",
              "</table>\n",
              "</div>\n",
              "    <div class=\"colab-df-buttons\">\n",
              "\n",
              "  <div class=\"colab-df-container\">\n",
              "    <button class=\"colab-df-convert\" onclick=\"convertToInteractive('df-96f640d9-7906-4961-8d8f-7582c20da02f')\"\n",
              "            title=\"Convert this dataframe to an interactive table.\"\n",
              "            style=\"display:none;\">\n",
              "\n",
              "  <svg xmlns=\"http://www.w3.org/2000/svg\" height=\"24px\" viewBox=\"0 -960 960 960\">\n",
              "    <path d=\"M120-120v-720h720v720H120Zm60-500h600v-160H180v160Zm220 220h160v-160H400v160Zm0 220h160v-160H400v160ZM180-400h160v-160H180v160Zm440 0h160v-160H620v160ZM180-180h160v-160H180v160Zm440 0h160v-160H620v160Z\"/>\n",
              "  </svg>\n",
              "    </button>\n",
              "\n",
              "  <style>\n",
              "    .colab-df-container {\n",
              "      display:flex;\n",
              "      gap: 12px;\n",
              "    }\n",
              "\n",
              "    .colab-df-convert {\n",
              "      background-color: #E8F0FE;\n",
              "      border: none;\n",
              "      border-radius: 50%;\n",
              "      cursor: pointer;\n",
              "      display: none;\n",
              "      fill: #1967D2;\n",
              "      height: 32px;\n",
              "      padding: 0 0 0 0;\n",
              "      width: 32px;\n",
              "    }\n",
              "\n",
              "    .colab-df-convert:hover {\n",
              "      background-color: #E2EBFA;\n",
              "      box-shadow: 0px 1px 2px rgba(60, 64, 67, 0.3), 0px 1px 3px 1px rgba(60, 64, 67, 0.15);\n",
              "      fill: #174EA6;\n",
              "    }\n",
              "\n",
              "    .colab-df-buttons div {\n",
              "      margin-bottom: 4px;\n",
              "    }\n",
              "\n",
              "    [theme=dark] .colab-df-convert {\n",
              "      background-color: #3B4455;\n",
              "      fill: #D2E3FC;\n",
              "    }\n",
              "\n",
              "    [theme=dark] .colab-df-convert:hover {\n",
              "      background-color: #434B5C;\n",
              "      box-shadow: 0px 1px 3px 1px rgba(0, 0, 0, 0.15);\n",
              "      filter: drop-shadow(0px 1px 2px rgba(0, 0, 0, 0.3));\n",
              "      fill: #FFFFFF;\n",
              "    }\n",
              "  </style>\n",
              "\n",
              "    <script>\n",
              "      const buttonEl =\n",
              "        document.querySelector('#df-96f640d9-7906-4961-8d8f-7582c20da02f button.colab-df-convert');\n",
              "      buttonEl.style.display =\n",
              "        google.colab.kernel.accessAllowed ? 'block' : 'none';\n",
              "\n",
              "      async function convertToInteractive(key) {\n",
              "        const element = document.querySelector('#df-96f640d9-7906-4961-8d8f-7582c20da02f');\n",
              "        const dataTable =\n",
              "          await google.colab.kernel.invokeFunction('convertToInteractive',\n",
              "                                                    [key], {});\n",
              "        if (!dataTable) return;\n",
              "\n",
              "        const docLinkHtml = 'Like what you see? Visit the ' +\n",
              "          '<a target=\"_blank\" href=https://colab.research.google.com/notebooks/data_table.ipynb>data table notebook</a>'\n",
              "          + ' to learn more about interactive tables.';\n",
              "        element.innerHTML = '';\n",
              "        dataTable['output_type'] = 'display_data';\n",
              "        await google.colab.output.renderOutput(dataTable, element);\n",
              "        const docLink = document.createElement('div');\n",
              "        docLink.innerHTML = docLinkHtml;\n",
              "        element.appendChild(docLink);\n",
              "      }\n",
              "    </script>\n",
              "  </div>\n",
              "\n",
              "\n",
              "    </div>\n",
              "  </div>\n"
            ],
            "text/plain": [
              "   Id   ProductId          UserId ProfileName  HelpfulnessNumerator  \\\n",
              "0   1  B001E4KFG0  A3SGXH7AUHU8GW  delmartian                     1   \n",
              "\n",
              "   HelpfulnessDenominator  Score        Time                Summary  \\\n",
              "0                       1      5  1303862400  Good Quality Dog Food   \n",
              "\n",
              "                                                                                                                                                                                                      Text  \\\n",
              "0  I have bought several of the Vitality canned dog food products and have found them all to be of good quality. The product looks more like a stew than a processed meat and it smells better. My Labr...   \n",
              "\n",
              "                                                                                                                                                           cleaned_text  \\\n",
              "0  bought several vitality canned dog food products found good quality product looks like stew processed meat smells better labrador finicky appreciates product better   \n",
              "\n",
              "                        cleaned_summary  \n",
              "0  sostok good quality dog food  eostok  "
            ]
          },
          "execution_count": 14,
          "metadata": {},
          "output_type": "execute_result"
        }
      ],
      "source": [
        "data.head(1)"
      ]
    },
    {
      "cell_type": "markdown",
      "metadata": {
        "id": "RjiFrKvaEdbs"
      },
      "source": [
        "Now, let’s take a look at the top 5 reviews and their summary:"
      ]
    },
    {
      "cell_type": "code",
      "execution_count": 15,
      "metadata": {
        "colab": {
          "base_uri": "https://localhost:8080/"
        },
        "execution": {
          "iopub.execute_input": "2022-12-24T23:34:26.039997Z",
          "iopub.status.busy": "2022-12-24T23:34:26.039622Z",
          "iopub.status.idle": "2022-12-24T23:34:26.049855Z",
          "shell.execute_reply": "2022-12-24T23:34:26.048767Z",
          "shell.execute_reply.started": "2022-12-24T23:34:26.039960Z"
        },
        "id": "yXxmw-S7Edbs",
        "outputId": "942f2824-d8f6-4222-895c-dbd562df4ce0",
        "trusted": true
      },
      "outputs": [
        {
          "name": "stdout",
          "output_type": "stream",
          "text": [
            "Review: bought several vitality canned dog food products found good quality product looks like stew processed meat smells better labrador finicky appreciates product better\n",
            "Summary: sostok good quality dog food  eostok\n",
            "\n",
            "\n",
            "Review: product arrived labeled jumbo salted peanuts peanuts actually small sized unsalted sure error vendor intended represent product jumbo\n",
            "Summary: sostok not as advertised  eostok\n",
            "\n",
            "\n",
            "Review: confection around centuries light pillowy citrus gelatin nuts case filberts cut tiny squares liberally coated powdered sugar tiny mouthful heaven chewy flavorful highly recommend yummy treat familiar story lewis lion witch wardrobe treat seduces edmund selling brother sisters witch\n",
            "Summary: sostok delight says it all  eostok\n",
            "\n",
            "\n",
            "Review: looking secret ingredient robitussin believe found got addition root beer extract ordered made cherry soda flavor medicinal\n",
            "Summary: sostok cough medicine  eostok\n",
            "\n",
            "\n",
            "Review: great taffy great price wide assortment yummy taffy delivery quick taffy lover deal\n",
            "Summary: sostok great taffy  eostok\n",
            "\n",
            "\n"
          ]
        }
      ],
      "source": [
        "for i in range(5):\n",
        "    print(\"Review:\", data['cleaned_text'][i])\n",
        "    print(\"Summary:\", data['cleaned_summary'][i])\n",
        "    print(\"\\n\")\n"
      ]
    },
    {
      "cell_type": "code",
      "execution_count": 18,
      "metadata": {
        "execution": {
          "iopub.execute_input": "2022-12-24T23:34:26.719194Z",
          "iopub.status.busy": "2022-12-24T23:34:26.716952Z",
          "iopub.status.idle": "2022-12-24T23:34:26.748819Z",
          "shell.execute_reply": "2022-12-24T23:34:26.748003Z",
          "shell.execute_reply.started": "2022-12-24T23:34:26.719133Z"
        },
        "id": "DK_MP59AEdbs",
        "trusted": true
      },
      "outputs": [],
      "source": [
        "from sklearn.model_selection import train_test_split\n",
        "x_tr, x_val, y_tr, y_val = train_test_split(data['cleaned_text'], data['cleaned_summary'], test_size=0.1, random_state=0, shuffle=True)\n"
      ]
    },
    {
      "cell_type": "markdown",
      "metadata": {
        "id": "tZ5TUt3yEdbs"
      },
      "source": [
        "## Preparing the Tokenizer"
      ]
    },
    {
      "cell_type": "code",
      "execution_count": 19,
      "metadata": {
        "execution": {
          "iopub.execute_input": "2022-12-24T23:34:26.751896Z",
          "iopub.status.busy": "2022-12-24T23:34:26.751617Z",
          "iopub.status.idle": "2022-12-24T23:34:32.486313Z",
          "shell.execute_reply": "2022-12-24T23:34:32.485333Z",
          "shell.execute_reply.started": "2022-12-24T23:34:26.751871Z"
        },
        "id": "LppAndkLEdbs",
        "trusted": true
      },
      "outputs": [],
      "source": [
        "# prepare a tokenizer for reviews on training data\n",
        "x_tokenizer = Tokenizer()\n",
        "x_tokenizer.fit_on_texts(list(x_tr))\n",
        "\n",
        "# convert text sequences into integer sequences\n",
        "x_tr = x_tokenizer.texts_to_sequences(x_tr)\n",
        "x_val = x_tokenizer.texts_to_sequences(x_val)\n",
        "\n",
        "# padding zero upto maximum length\n",
        "x_tr = pad_sequences(x_tr,  maxlen=max_len_text, padding='post')\n",
        "x_val = pad_sequences(x_val, maxlen=max_len_text, padding='post')\n",
        "\n",
        "x_voc_size = len(x_tokenizer.word_index) + 1\n"
      ]
    },
    {
      "cell_type": "code",
      "execution_count": 20,
      "metadata": {
        "execution": {
          "iopub.execute_input": "2022-12-24T23:34:32.487966Z",
          "iopub.status.busy": "2022-12-24T23:34:32.487594Z",
          "iopub.status.idle": "2022-12-24T23:34:34.679493Z",
          "shell.execute_reply": "2022-12-24T23:34:34.678421Z",
          "shell.execute_reply.started": "2022-12-24T23:34:32.487920Z"
        },
        "id": "IlZHXgN2Edbt",
        "trusted": true
      },
      "outputs": [],
      "source": [
        "# preparing a tokenizer for summary on training data\n",
        "y_tokenizer = Tokenizer()\n",
        "y_tokenizer.fit_on_texts(list(y_tr))\n",
        "\n",
        "# convert summary sequences into integer sequences\n",
        "y_tr = y_tokenizer.texts_to_sequences(y_tr)\n",
        "y_val = y_tokenizer.texts_to_sequences(y_val)\n",
        "\n",
        "# padding zero upto maximum length\n",
        "y_tr = pad_sequences(y_tr, maxlen=max_len_summary, padding='post')\n",
        "y_val = pad_sequences(y_val, maxlen=max_len_summary, padding='post')\n",
        "\n",
        "y_voc_size = len(y_tokenizer.word_index) + 1\n"
      ]
    },
    {
      "cell_type": "markdown",
      "metadata": {
        "id": "Mbwf08muEdbt"
      },
      "source": [
        "## Model building"
      ]
    },
    {
      "cell_type": "code",
      "execution_count": 21,
      "metadata": {
        "colab": {
          "base_uri": "https://localhost:8080/"
        },
        "execution": {
          "iopub.execute_input": "2022-12-24T23:34:34.681808Z",
          "iopub.status.busy": "2022-12-24T23:34:34.681181Z",
          "iopub.status.idle": "2022-12-24T23:34:38.975639Z",
          "shell.execute_reply": "2022-12-24T23:34:38.974387Z",
          "shell.execute_reply.started": "2022-12-24T23:34:34.681741Z"
        },
        "id": "QSybEuThEdbt",
        "outputId": "952be745-577f-4c2f-feca-dd23b9151881",
        "trusted": true
      },
      "outputs": [
        {
          "name": "stdout",
          "output_type": "stream",
          "text": [
            "Model: \"model\"\n",
            "__________________________________________________________________________________________________\n",
            " Layer (type)                Output Shape                 Param #   Connected to                  \n",
            "==================================================================================================\n",
            " input_1 (InputLayer)        [(None, 80)]                 0         []                            \n",
            "                                                                                                  \n",
            " embedding (Embedding)       (None, 80, 500)              2588650   ['input_1[0][0]']             \n",
            "                                                          0                                       \n",
            "                                                                                                  \n",
            " lstm (LSTM)                 [(None, 80, 500),            2002000   ['embedding[0][0]']           \n",
            "                              (None, 500),                                                        \n",
            "                              (None, 500)]                                                        \n",
            "                                                                                                  \n",
            " input_2 (InputLayer)        [(None, None)]               0         []                            \n",
            "                                                                                                  \n",
            " lstm_1 (LSTM)               [(None, 80, 500),            2002000   ['lstm[0][0]']                \n",
            "                              (None, 500),                                                        \n",
            "                              (None, 500)]                                                        \n",
            "                                                                                                  \n",
            " embedding_1 (Embedding)     (None, None, 500)            7073000   ['input_2[0][0]']             \n",
            "                                                                                                  \n",
            " lstm_2 (LSTM)               [(None, 80, 500),            2002000   ['lstm_1[0][0]']              \n",
            "                              (None, 500),                                                        \n",
            "                              (None, 500)]                                                        \n",
            "                                                                                                  \n",
            " lstm_3 (LSTM)               [(None, None, 500),          2002000   ['embedding_1[0][0]',         \n",
            "                              (None, 500),                           'lstm_2[0][1]',              \n",
            "                              (None, 500)]                           'lstm_2[0][2]']              \n",
            "                                                                                                  \n",
            " time_distributed (TimeDist  (None, None, 14146)          7087146   ['lstm_3[0][0]']              \n",
            " ributed)                                                                                         \n",
            "                                                                                                  \n",
            "==================================================================================================\n",
            "Total params: 48054646 (183.31 MB)\n",
            "Trainable params: 48054646 (183.31 MB)\n",
            "Non-trainable params: 0 (0.00 Byte)\n",
            "__________________________________________________________________________________________________\n"
          ]
        }
      ],
      "source": [
        "from keras import backend as K\n",
        "K.clear_session()\n",
        "latent_dim = 500\n",
        "\n",
        "# Encoder\n",
        "encoder_inputs = Input(shape=(max_len_text,))\n",
        "# Word embeddings provide a dense representation of words and their relative meanings, each input integer is used as the index to access a table that contains all possible vectors. That is the reason why you need to specify the size of the vocabulary as the first argument (so the table can be initialized).\n",
        "enc_emb = Embedding(x_voc_size, latent_dim, trainable=True)(encoder_inputs)\n",
        "\n",
        "# LSTM 1\n",
        "encoder_lstm1 = LSTM(latent_dim, return_sequences=True, return_state=True)\n",
        "encoder_output1, state_h1, state_c1 = encoder_lstm1(enc_emb)\n",
        "\n",
        "# LSTM 2\n",
        "encoder_lstm2 = LSTM(latent_dim, return_sequences=True, return_state=True)\n",
        "encoder_output2, state_h2, state_c2 = encoder_lstm2(encoder_output1)\n",
        "\n",
        "# LSTM 3\n",
        "encoder_lstm3 = LSTM(latent_dim, return_state=True, return_sequences=True)\n",
        "encoder_outputs, state_h, state_c = encoder_lstm3(encoder_output2)\n",
        "\n",
        "# Set up the decoder.\n",
        "decoder_inputs = Input(shape=(None,))\n",
        "dec_emb_layer = Embedding(y_voc_size, latent_dim, trainable=True)\n",
        "dec_emb = dec_emb_layer(decoder_inputs)\n",
        "\n",
        "# LSTM using encoder_states as initial state\n",
        "decoder_lstm = LSTM(latent_dim, return_sequences=True, return_state=True)\n",
        "decoder_outputs, decoder_fwd_state, decoder_back_state = decoder_lstm(dec_emb, initial_state=[state_h, state_c])\n",
        "\n",
        "# Dense layer\n",
        "decoder_dense = TimeDistributed(Dense(y_voc_size, activation='softmax'))\n",
        "decoder_outputs = decoder_dense(decoder_outputs)\n",
        "\n",
        "# Define the model\n",
        "model = Model([encoder_inputs, decoder_inputs], decoder_outputs)\n",
        "model.summary()\n"
      ]
    },
    {
      "cell_type": "markdown",
      "metadata": {
        "id": "u0OBjVN7Edbt"
      },
      "source": [
        "Using sparse `categorical cross-entropy` as the loss function since it converts the integer sequence to a one-hot vector on the fly. This overcomes any memory issues."
      ]
    },
    {
      "cell_type": "code",
      "execution_count": 22,
      "metadata": {
        "execution": {
          "iopub.execute_input": "2022-12-24T23:34:38.979754Z",
          "iopub.status.busy": "2022-12-24T23:34:38.978705Z",
          "iopub.status.idle": "2022-12-24T23:34:39.000726Z",
          "shell.execute_reply": "2022-12-24T23:34:38.999838Z",
          "shell.execute_reply.started": "2022-12-24T23:34:38.979712Z"
        },
        "id": "SgDkBjg4Edbt",
        "trusted": true
      },
      "outputs": [],
      "source": [
        "model.compile(optimizer='rmsprop', loss='sparse_categorical_crossentropy')"
      ]
    },
    {
      "cell_type": "markdown",
      "metadata": {
        "id": "6CnfRvaTEdbt"
      },
      "source": [
        "Remember the concept of early stopping? It is used to stop training the neural network at the right time by monitoring a user-specified metric. Here, I am monitoring the validation loss (val_loss). Our model will stop training once the validation loss increases"
      ]
    },
    {
      "cell_type": "code",
      "execution_count": 23,
      "metadata": {
        "execution": {
          "iopub.execute_input": "2022-12-24T23:34:39.002722Z",
          "iopub.status.busy": "2022-12-24T23:34:39.002107Z",
          "iopub.status.idle": "2022-12-24T23:34:39.008598Z",
          "shell.execute_reply": "2022-12-24T23:34:39.006770Z",
          "shell.execute_reply.started": "2022-12-24T23:34:39.002684Z"
        },
        "id": "F4BmM6iNEdbt",
        "trusted": true
      },
      "outputs": [],
      "source": [
        "es = EarlyStopping(monitor='val_loss', mode='min', verbose=1)"
      ]
    },
    {
      "cell_type": "code",
      "execution_count": 25,
      "metadata": {
        "colab": {
          "base_uri": "https://localhost:8080/"
        },
        "execution": {
          "iopub.execute_input": "2022-12-24T23:34:39.010480Z",
          "iopub.status.busy": "2022-12-24T23:34:39.010033Z",
          "iopub.status.idle": "2022-12-24T23:51:29.538364Z",
          "shell.execute_reply": "2022-12-24T23:51:29.537454Z",
          "shell.execute_reply.started": "2022-12-24T23:34:39.010437Z"
        },
        "id": "MeQO6km5Edbu",
        "outputId": "480ca1a4-9083-4f65-bd9b-6f8b79d3d9a3",
        "trusted": true
      },
      "outputs": [
        {
          "name": "stdout",
          "output_type": "stream",
          "text": [
            "156/156 [==============================] - 6827s 44s/step - loss: 3.7421 - val_loss: 3.0281\n"
          ]
        }
      ],
      "source": [
        "history = model.fit([x_tr, y_tr[:, :-1]], y_tr.reshape(y_tr.shape[0], y_tr.shape[1], 1)[:, 1:], epochs=1,\n",
        "                    batch_size=512, validation_data=([x_val, y_val[:, :-1]], y_val.reshape(y_val.shape[0], y_val.shape[1], 1)[:, 1:]))\n"
      ]
    },
    {
      "cell_type": "markdown",
      "metadata": {
        "id": "B5sOqWHoEdbu"
      },
      "source": [
        "Now, we will plot a few diagnostic plots to understand the behavior of the model over time"
      ]
    },
    {
      "cell_type": "markdown",
      "metadata": {
        "id": "pVtguj1VEdbu"
      },
      "source": [
        "let’s build the dictionary to convert the index to word for target and source vocabulary"
      ]
    },
    {
      "cell_type": "code",
      "execution_count": 27,
      "metadata": {
        "execution": {
          "iopub.execute_input": "2022-12-24T23:51:29.762525Z",
          "iopub.status.busy": "2022-12-24T23:51:29.762178Z",
          "iopub.status.idle": "2022-12-24T23:51:29.767319Z",
          "shell.execute_reply": "2022-12-24T23:51:29.766219Z",
          "shell.execute_reply.started": "2022-12-24T23:51:29.762490Z"
        },
        "id": "_NHdbRnxEdbu",
        "trusted": true
      },
      "outputs": [],
      "source": [
        "reverse_target_word_index = y_tokenizer.index_word\n",
        "reverse_source_word_index = x_tokenizer.index_word\n",
        "target_word_index = y_tokenizer.word_index"
      ]
    },
    {
      "cell_type": "markdown",
      "metadata": {
        "id": "35pUlwzAEdbu"
      },
      "source": [
        "## Inference\n",
        "\n",
        "Set up the inference for the encoder and decoder"
      ]
    },
    {
      "cell_type": "code",
      "execution_count": 28,
      "metadata": {
        "execution": {
          "iopub.execute_input": "2022-12-24T23:51:29.769679Z",
          "iopub.status.busy": "2022-12-24T23:51:29.769059Z",
          "iopub.status.idle": "2022-12-24T23:51:29.980795Z",
          "shell.execute_reply": "2022-12-24T23:51:29.979821Z",
          "shell.execute_reply.started": "2022-12-24T23:51:29.769642Z"
        },
        "id": "A9Bl11H4Edby",
        "trusted": true
      },
      "outputs": [],
      "source": [
        "# encoder inference\n",
        "encoder_model = Model(inputs=encoder_inputs,outputs=[encoder_outputs, state_h, state_c])\n",
        "\n",
        "# decoder inference\n",
        "# Below tensors will hold the states of the previous time step\n",
        "decoder_state_input_h = Input(shape=(latent_dim,))\n",
        "decoder_state_input_c = Input(shape=(latent_dim,))\n",
        "decoder_hidden_state_input = Input(shape=(max_len_text,latent_dim))\n",
        "\n",
        "# Get the embeddings of the decoder sequence\n",
        "dec_emb2= dec_emb_layer(decoder_inputs)\n",
        "\n",
        "# To predict the next word in the sequence, set the initial states to the states from the previous time step\n",
        "decoder_outputs2, state_h2, state_c2 = decoder_lstm(dec_emb2, initial_state=[decoder_state_input_h, decoder_state_input_c])\n",
        "\n",
        "# attention inference\n",
        "# attn_out_inf, attn_states_inf = attn_layer([decoder_hidden_state_input, decoder_outputs2])\n",
        "# decoder_inf_concat = Concatenate(axis=-1, name='concat')([decoder_outputs2, attn_out_inf])\n",
        "\n",
        "# A dense softmax layer to generate prob dist. over the target vocabulary\n",
        "decoder_outputs2 = decoder_dense(decoder_outputs2)\n",
        "\n",
        "# Final decoder model\n",
        "decoder_model = Model([decoder_inputs] + [decoder_hidden_state_input,decoder_state_input_h, decoder_state_input_c], [decoder_outputs2] + [state_h2, state_c2])"
      ]
    },
    {
      "cell_type": "markdown",
      "metadata": {
        "id": "RrQHmlD0Edby"
      },
      "source": [
        "We are defining a function below which is the implementation of the inference process (which we covered in the above section)"
      ]
    },
    {
      "cell_type": "code",
      "execution_count": 29,
      "metadata": {
        "execution": {
          "iopub.execute_input": "2022-12-24T23:51:29.982747Z",
          "iopub.status.busy": "2022-12-24T23:51:29.982355Z",
          "iopub.status.idle": "2022-12-24T23:51:29.992538Z",
          "shell.execute_reply": "2022-12-24T23:51:29.991534Z",
          "shell.execute_reply.started": "2022-12-24T23:51:29.982709Z"
        },
        "id": "BrUX6gq7Edby",
        "trusted": true
      },
      "outputs": [],
      "source": [
        "def decode_sequence(input_seq):\n",
        "    # Encode the input as state vectors.\n",
        "    e_out, e_h, e_c = encoder_model.predict(input_seq)\n",
        "\n",
        "    # Generate empty target sequence of length 1.\n",
        "    target_seq = np.zeros((1,1))\n",
        "\n",
        "    # Populate the first word of target sequence with the start word.\n",
        "    target_seq[0, 0] = target_word_index['sostok']\n",
        "\n",
        "    stop_condition = False\n",
        "    decoded_sentence = ''\n",
        "    while not stop_condition:\n",
        "\n",
        "        output_tokens, h, c = decoder_model.predict([target_seq] + [e_out, e_h, e_c])\n",
        "\n",
        "        # Sample a token\n",
        "        sampled_token_index = np.argmax(output_tokens[0, -1, :])\n",
        "        sampled_token = reverse_target_word_index[sampled_token_index]\n",
        "\n",
        "        if(sampled_token!='eostok'):\n",
        "            decoded_sentence += ' '+sampled_token\n",
        "\n",
        "        # Exit condition: either hit max length or find stop word.\n",
        "        if (sampled_token == 'eostok'  or len(decoded_sentence.split()) >= (max_len_summary-1)):\n",
        "            stop_condition = True\n",
        "\n",
        "        # Update the target sequence (of length 1).\n",
        "        target_seq = np.zeros((1,1))\n",
        "        target_seq[0, 0] = sampled_token_index\n",
        "\n",
        "        # Update internal states\n",
        "        e_h, e_c = h, c\n",
        "\n",
        "    return decoded_sentence"
      ]
    },
    {
      "cell_type": "markdown",
      "metadata": {
        "id": "1eVfzhjVEdby"
      },
      "source": [
        "Let us define the functions to convert an integer sequence to a word sequence for summary as well as the reviews"
      ]
    },
    {
      "cell_type": "code",
      "execution_count": 30,
      "metadata": {
        "execution": {
          "iopub.execute_input": "2022-12-24T23:51:29.994546Z",
          "iopub.status.busy": "2022-12-24T23:51:29.994164Z",
          "iopub.status.idle": "2022-12-24T23:51:30.007149Z",
          "shell.execute_reply": "2022-12-24T23:51:30.005172Z",
          "shell.execute_reply.started": "2022-12-24T23:51:29.994507Z"
        },
        "id": "JbgVgRltEdby",
        "trusted": true
      },
      "outputs": [],
      "source": [
        "def seq2summary(input_seq):\n",
        "    '''\n",
        "    convert an integer sequence to a word sequence for summary\n",
        "    '''\n",
        "    newString=''\n",
        "    for i in input_seq:\n",
        "        if((i!=0 and i!=target_word_index['sostok']) and i!=target_word_index['eostok']):\n",
        "            newString=newString+reverse_target_word_index[i]+' '\n",
        "    return newString\n",
        "\n",
        "def seq2text(input_seq):\n",
        "    '''\n",
        "    convert an integer sequence to a word sequence for reviews\n",
        "    '''\n",
        "    newString=''\n",
        "    for i in input_seq:\n",
        "        if(i!=0):\n",
        "            newString=newString+reverse_source_word_index[i]+' '\n",
        "    return newString"
      ]
    },
    {
      "cell_type": "code",
      "execution_count": 31,
      "metadata": {
        "colab": {
          "base_uri": "https://localhost:8080/"
        },
        "execution": {
          "iopub.execute_input": "2022-12-24T23:55:03.335936Z",
          "iopub.status.busy": "2022-12-24T23:55:03.335290Z",
          "iopub.status.idle": "2022-12-24T23:55:05.358489Z",
          "shell.execute_reply": "2022-12-24T23:55:05.357468Z",
          "shell.execute_reply.started": "2022-12-24T23:55:03.335890Z"
        },
        "id": "7PXU_3R7Edby",
        "outputId": "9c85580f-36cd-478f-9336-ac344a9e96de",
        "trusted": true
      },
      "outputs": [
        {
          "name": "stdout",
          "output_type": "stream",
          "text": [
            "Review: might work well training way tiny treat give whole handful disappointed \n",
            "Original summary: too tiny \n",
            "1/1 [==============================] - 2s 2s/step\n",
            "1/1 [==============================] - 1s 644ms/step\n",
            "1/1 [==============================] - 0s 68ms/step\n",
            "Predicted summary:  great\n",
            "\n",
            "\n",
            "Review: gluten free want crackers one also delicious second order \n",
            "Original summary: cracker of cracker \n",
            "1/1 [==============================] - 0s 236ms/step\n",
            "1/1 [==============================] - 0s 34ms/step\n",
            "1/1 [==============================] - 0s 28ms/step\n",
            "Predicted summary:  great\n",
            "\n",
            "\n",
            "Review: love using fresh ginger lemon cook saw ginger lemon drink try flavor good leave slight taste enough deter trying complaint received sample pack gold kili drink directions much water use tend like foods drinks flavorful opted regular coffee mug found strong ended pouring largest one thought provided nice change pace basic varieties teas coffee warm drinks market today \n",
            "Original summary: powerful flavor \n",
            "1/1 [==============================] - 0s 143ms/step\n",
            "1/1 [==============================] - 0s 27ms/step\n",
            "1/1 [==============================] - 0s 27ms/step\n",
            "Predicted summary:  great\n",
            "\n",
            "\n",
            "Review: received product review unfortunately sample enough one serving possible give product valid review small sample size provided impressed maybe flavor needs chance savored \n",
            "Original summary: not enough product in sample for review \n",
            "1/1 [==============================] - 0s 154ms/step\n",
            "1/1 [==============================] - 0s 26ms/step\n",
            "1/1 [==============================] - 0s 26ms/step\n",
            "Predicted summary:  great\n",
            "\n",
            "\n",
            "Review: cats years old gotten older tummies seem become delicate research decided try natural balance difference made amazing coats shiny lush would even say shed less cat skin condition like dandruff longer suffers took bit time get used food course mix old food week happen run give cheaper food turn noses fortunately amazon prime order one day food next \n",
            "Original summary: changed my cats for the better \n",
            "1/1 [==============================] - 0s 164ms/step\n",
            "1/1 [==============================] - 0s 28ms/step\n",
            "1/1 [==============================] - 0s 27ms/step\n",
            "Predicted summary:  great\n",
            "\n",
            "\n",
            "Review: using satin ice many years lately quality diminished cracks appear almost immediately little start pray unacceptable researching alternatives business \n",
            "Original summary: quality cracks \n",
            "1/1 [==============================] - 0s 158ms/step\n",
            "1/1 [==============================] - 0s 26ms/step\n",
            "1/1 [==============================] - 0s 27ms/step\n",
            "Predicted summary:  great\n",
            "\n",
            "\n",
            "Review: tea hard find bought boxes open packet bag smells exactly like fresh peaches taste masked flavors cinnamon makes wonderful iced tea \n",
            "Original summary: stash peach tea \n",
            "1/1 [==============================] - 0s 153ms/step\n",
            "1/1 [==============================] - 0s 32ms/step\n",
            "1/1 [==============================] - 0s 27ms/step\n",
            "Predicted summary:  great\n",
            "\n",
            "\n",
            "Review: mars american company found actually bought germany fans almond joy mounds past better really know better perhaps fresh coconut taste better chocolate either way awesome like almond joy mounds chocolate coconut love really hope become popular sell stores pros like mounds steroids milk chocolate dark come dark chocolate really really really good cons sweet side cannot eat lot without getting tummy ache could good portion control perhaps could pro haha healthy snack buy right tip try putting fridge consume mmmmmm \n",
            "Original summary: my mouth loves these \n",
            "1/1 [==============================] - 0s 151ms/step\n",
            "1/1 [==============================] - 0s 26ms/step\n",
            "1/1 [==============================] - 0s 28ms/step\n",
            "Predicted summary:  great\n",
            "\n",
            "\n",
            "Review: last week hungry girl good morning america claimed best soup ever ever ever big fan campbell tomato soup enjoyed various progresso tomato soups try fantastic see one reviews mentioned using pasta sauce definitely see one thing surprised low sodium version soup couple negative reviews sweet amount sugar wonder lower salt content makes sweetness stand \n",
            "Original summary: best tomato soup have had \n",
            "1/1 [==============================] - 0s 148ms/step\n",
            "1/1 [==============================] - 0s 29ms/step\n",
            "1/1 [==============================] - 0s 26ms/step\n",
            "Predicted summary:  great\n",
            "\n",
            "\n",
            "Review: recipe favorite bought boxes flavor last years deer hunting season everyone tried impressed flavor add liquid smoke salt additional cayenne pepper batches make enough deer jerky fill gallon bags every season far best tried date \n",
            "Original summary: great taste great price \n",
            "1/1 [==============================] - 0s 170ms/step\n",
            "1/1 [==============================] - 0s 29ms/step\n",
            "1/1 [==============================] - 0s 27ms/step\n",
            "Predicted summary:  great\n",
            "\n",
            "\n"
          ]
        }
      ],
      "source": [
        "for i in range(20, 30):\n",
        "  print(\"Review:\", seq2text(x_val[i]))\n",
        "  print(\"Original summary:\", seq2summary(y_val[i]))\n",
        "  print(\"Predicted summary:\", decode_sequence(x_val[i].reshape(1, max_len_text)))\n",
        "  print(\"\\n\")"
      ]
    }
  ],
  "metadata": {
    "colab": {
      "provenance": []
    },
    "kernelspec": {
      "display_name": "Python 3",
      "language": "python",
      "name": "python3"
    },
    "language_info": {
      "codemirror_mode": {
        "name": "ipython",
        "version": 3
      },
      "file_extension": ".py",
      "mimetype": "text/x-python",
      "name": "python",
      "nbconvert_exporter": "python",
      "pygments_lexer": "ipython3",
      "version": "3.7.12"
    }
  },
  "nbformat": 4,
  "nbformat_minor": 0
}
